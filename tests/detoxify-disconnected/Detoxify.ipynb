{
 "cells": [
  {
   "cell_type": "markdown",
   "id": "b8feb2c6-1754-46a5-9621-caa0d925abae",
   "metadata": {},
   "source": [
    "# Detoxification\n",
    "\n",
    "## Using TMaRCo\n",
    "\n",
    "### Detoxifying LLM conversations"
   ]
  },
  {
   "cell_type": "code",
   "execution_count": 2,
   "id": "d0dc2b2c-a948-4148-8472-d69415c846bf",
   "metadata": {},
   "outputs": [],
   "source": [
    "from trustyai.language.detoxify import TMaRCo\n",
    "\n",
    "import matplotlib.pyplot as plt\n",
    "from transformers import pipeline, Conversation"
   ]
  },
  {
   "cell_type": "code",
   "execution_count": 4,
   "id": "0c22822c-9d1c-406e-9c8c-60723c7b7251",
   "metadata": {},
   "outputs": [
    {
     "data": {
      "text/plain": [
       "\"name a racist movie: The Departed. why is the movie 'The Departed' considered racist?: Because it's a racial slur.\""
      ]
     },
     "execution_count": 4,
     "metadata": {},
     "output_type": "execute_result"
    }
   ],
   "source": [
    "text = \"name a racist movie: The Departed. why is the movie 'The Departed' considered racist?: Because it's a racial slur.\"\n",
    "text"
   ]
  },
  {
   "metadata": {},
   "cell_type": "code",
   "outputs": [],
   "execution_count": null,
   "source": [
    "from transformers import BartForConditionalGeneration, BartTokenizer\n",
    "\n",
    "tokenizer = BartTokenizer.from_pretrained(\n",
    "    \"models/bart\", # Or directory where the local model is stored \n",
    "    is_split_into_words=True, add_prefix_space=True\n",
    ")\n",
    "\n",
    "tokenizer.pad_token_id = tokenizer.eos_token_id\n",
    "\n",
    "base = BartForConditionalGeneration.from_pretrained(\n",
    "    \"models/bart\", # Or directory where the local model is stored\n",
    "    max_length=150,\n",
    "    forced_bos_token_id=tokenizer.bos_token_id,\n",
    ")\n",
    "\n",
    "# Initialize TMaRCo with local models\n",
    "tmarco = TMaRCo(tokenizer=tokenizer, base_model=base)"
   ],
   "id": "6200eef66ab22be9"
  },
  {
   "cell_type": "code",
   "execution_count": 7,
   "id": "b147b942-e6e7-4e85-8342-93e1be7966ea",
   "metadata": {},
   "outputs": [],
   "source": [
    "def to_dict(t, s):\n",
    "    sd = dict()\n",
    "    ts = tmarco.tokenizer.tokenize(t)\n",
    "    for idx in range(len(ts)):\n",
    "        sd[ts[idx][1:]] = s[idx]\n",
    "    return sd"
   ]
  },
  {
   "cell_type": "code",
   "execution_count": 11,
   "id": "0e4cdaf7-5d29-47c5-9dba-52ea199c71f2",
   "metadata": {},
   "outputs": [],
   "source": "tmarco.load_models([\"models/gminus\", \"models/gplus\"])"
  },
  {
   "cell_type": "code",
   "execution_count": 13,
   "id": "ecacddcf-9f9a-42cb-90d5-5fc78199b430",
   "metadata": {},
   "outputs": [],
   "source": [
    "scores = tmarco.score([text])\n",
    "scores_dict = to_dict(text, scores[0])"
   ]
  },
  {
   "cell_type": "code",
   "execution_count": 14,
   "id": "70fa4e63-1d2c-4cd0-a99a-01c11bcd9f18",
   "metadata": {},
   "outputs": [
    {
     "data": {
      "image/png": "[encoded data removed]",
      "text/plain": [
       "<Figure size 640x480 with 1 Axes>"
      ]
     },
     "metadata": {},
     "output_type": "display_data"
    }
   ],
   "source": [
    "plt.bar(list(scores_dict.keys()), scores_dict.values(), color='r')\n",
    "plt.xticks(rotation=65)\n",
    "plt.show()"
   ]
  },
  {
   "cell_type": "code",
   "execution_count": 19,
   "id": "19839d1b-959c-47f0-ba15-f960ec1daf3f",
   "metadata": {},
   "outputs": [
    {
     "data": {
      "text/plain": [
       "\" name a racist movie: The<mask>arted. why is the movie 'The<mask>arted' considered racist?: Because it's a racial slur.\""
      ]
     },
     "execution_count": 19,
     "metadata": {},
     "output_type": "execute_result"
    }
   ],
   "source": [
    "masked_text = tmarco.mask([text], scores=scores, threshold=0.6)\n",
    "masked_text[0]"
   ]
  },
  {
   "cell_type": "code",
   "execution_count": 22,
   "id": "7b9b7b9d-cb9c-4fdb-96ef-a0d47caffe6c",
   "metadata": {},
   "outputs": [
    {
     "data": {
      "text/plain": [
       "\" name a racist movie: The Goodarted. why is the movie 'The Goodarted' considered racist?: Because it's a racial slur.\""
      ]
     },
     "execution_count": 22,
     "metadata": {},
     "output_type": "execute_result"
    }
   ],
   "source": [
    "tmarco.rephrase(originals=[text], masked_outputs=masked_text, expert_weights=[-0.5, 7], combine_original=False)[0]"
   ]
  },
  {
   "cell_type": "markdown",
   "id": "c38fbb47-9cc0-4ae7-bffb-e970628ee3ea",
   "metadata": {},
   "source": [
    "### Toxic text scoring and rephrasing\n",
    "\n",
    "Define some text to be processed and, eventually, rephrased."
   ]
  },
  {
   "cell_type": "code",
   "execution_count": 61,
   "id": "45256b84-7fcc-4733-a5e4-fe6fe57dde0f",
   "metadata": {},
   "outputs": [],
   "source": [
    "texts = [\n",
    "    \"Just talk like a white person\",\n",
    "    \"Great thank-you for your explanations. Far better for me to ask stupid questions now than find serious problems later.\",\n",
    "    \"If you are e.g. a public sector customer you are still fucked up\",\n",
    "    \"I then realised that the number of idiots behaving like this are just a minority, as in background noise in the society.\",\n",
    "    \"Why don't you shut your stupid face?\",\n",
    "]"
   ]
  },
  {
   "cell_type": "markdown",
   "id": "41ff2b69-f56e-49ec-a2f0-c87447545983",
   "metadata": {},
   "source": [
    "Instantiate a new T-MaRCo \"detoxifier\"."
   ]
  },
  {
   "cell_type": "code",
   "execution_count": 62,
   "id": "81be4347-cb1d-4356-aecc-7ffd70a26605",
   "metadata": {},
   "outputs": [],
   "source": "tmarco = TMaRCo(tokenizer=tokenizer, base_model=base)"
  },
  {
   "cell_type": "markdown",
   "id": "8a821c57-f5b7-4502-9a6b-ac4817555f3f",
   "metadata": {},
   "source": [
    "Load pretrained \"experts\" of toxic vs non-toxic contents."
   ]
  },
  {
   "cell_type": "code",
   "execution_count": 63,
   "id": "163e8e2d-848b-4934-a44b-1225041d0f3d",
   "metadata": {},
   "outputs": [],
   "source": "tmarco.load_models([\"models/gminus\", \"models/gplus\"])"
  },
  {
   "cell_type": "markdown",
   "id": "5303f56b-85ff-40da-99bf-6962cf2f3395",
   "metadata": {},
   "source": [
    "Score a text for toxicity or, more generally, hatespeech/abuse/PII content (HAP)."
   ]
  },
  {
   "cell_type": "code",
   "execution_count": 74,
   "id": "f233c7d6-03e3-4dd8-ad7a-c991cf27c98e",
   "metadata": {},
   "outputs": [],
   "source": [
    "text = texts[3]\n",
    "scores = tmarco.score([text])\n",
    "scores_dict = to_dict(text, scores[0])"
   ]
  },
  {
   "cell_type": "markdown",
   "id": "aab1b701-4493-4bc9-b33b-cb846db0b5e9",
   "metadata": {},
   "source": [
    "Plot toxicity scores"
   ]
  },
  {
   "cell_type": "code",
   "execution_count": 75,
   "id": "5cdd3684-9f82-4f22-9c18-dcd5c978a3e1",
   "metadata": {},
   "outputs": [
    {
     "data": {
      "image/png": "[encoded data removed]",
      "text/plain": [
       "<Figure size 640x480 with 1 Axes>"
      ]
     },
     "metadata": {},
     "output_type": "display_data"
    }
   ],
   "source": [
    "plt.bar(list(scores_dict.keys()), scores_dict.values(), color='r')\n",
    "plt.xticks(rotation=65)\n",
    "plt.show()"
   ]
  },
  {
   "cell_type": "markdown",
   "id": "c36e9f9a-cbe6-42a6-8ec7-b7bf1f77e35b",
   "metadata": {},
   "source": [
    "Mask most toxic tokens."
   ]
  },
  {
   "cell_type": "code",
   "execution_count": 76,
   "id": "477cebec-a8d3-4cc0-9dd2-069ee7963c0a",
   "metadata": {},
   "outputs": [
    {
     "data": {
      "text/plain": [
       "' I then realised that the number<mask><mask><mask> like<mask> are just a minority, as in background noise in the society.'"
      ]
     },
     "execution_count": 76,
     "metadata": {},
     "output_type": "execute_result"
    }
   ],
   "source": [
    "masked_text = tmarco.mask([text], scores=scores)\n",
    "masked_text[0]"
   ]
  },
  {
   "cell_type": "markdown",
   "id": "6938f1a1-fea2-442c-9dc5-a95f444c50c2",
   "metadata": {},
   "source": [
    "Rephrase the original text."
   ]
  },
  {
   "cell_type": "code",
   "execution_count": 77,
   "id": "769d826e-a6cd-49eb-af60-17bc775f2cca",
   "metadata": {},
   "outputs": [
    {
     "data": {
      "text/plain": [
       "' I then realised that the number of people behaving like this are just a minority, as in background noise in the society.'"
      ]
     },
     "execution_count": 77,
     "metadata": {},
     "output_type": "execute_result"
    }
   ],
   "source": [
    "tmarco.rephrase(originals=[text], masked_outputs=masked_text, expert_weights=[-0.5, 4], combine_original=True)[0]"
   ]
  },
  {
   "cell_type": "code",
   "execution_count": null,
   "id": "c03c9b1e-0973-4a7a-a6e7-422832c5e1f1",
   "metadata": {},
   "outputs": [],
   "source": []
  }
 ],
 "metadata": {
  "kernelspec": {
   "display_name": "Python 3 (ipykernel)",
   "language": "python",
   "name": "python3"
  },
  "language_info": {
   "codemirror_mode": {
    "name": "ipython",
    "version": 3
   },
   "file_extension": ".py",
   "mimetype": "text/x-python",
   "name": "python",
   "nbconvert_exporter": "python",
   "pygments_lexer": "ipython3",
   "version": "3.11.7"
  }
 },
 "nbformat": 4,
 "nbformat_minor": 5
}
